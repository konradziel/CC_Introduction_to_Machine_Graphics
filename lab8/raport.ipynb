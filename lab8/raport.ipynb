{
 "cells": [
  {
   "cell_type": "code",
   "execution_count": null,
   "metadata": {
    "vscode": {
     "languageId": "plaintext"
    }
   },
   "outputs": [],
   "source": [
    "from PIL import Image, ImageFilter, ImageChops\n",
    "import matplotlib.pyplot as plt\n",
    "import numpy as np"
   ]
  },
  {
   "cell_type": "markdown",
   "metadata": {},
   "source": [
    "# Raport - Lab 8: Filtry obrazów i konwolucje\n",
    "\n",
    "## 1. Implementacja funkcji filtruj()\n",
    "Zaimplementowano funkcję `filtruj(obraz, kernel, scale)`, która wykonuje konwolucję obrazu z podanym kernelem i skalą. Funkcja wykorzystuje `ImageFilter.Kernel` z biblioteki PIL."
   ]
  },
  {
   "cell_type": "code",
   "execution_count": null,
   "metadata": {},
   "outputs": [],
   "source": [
    "def filtruj(obraz, kernel, scale):\n",
    "    return obraz.filter(ImageFilter.Kernel(size=(int(len(kernel) ** 0.5), int(len(kernel) ** 0.5)), \n",
    "                                         kernel=kernel, \n",
    "                                         scale=scale))"
   ]
  },
  {
   "cell_type": "markdown",
   "metadata": {},
   "source": [
    "## 2. Filtr BLUR\n",
    "- filtr BLUR używa wbudowanej funkcji `ImageFilter.BLUR`\n",
    "- własna wersja filtru BLUR używa kernela 3x3 z wartościami 1/9\n",
    "- porównanie pokazuje minimalne różnice między implementacjami (fig1.png)"
   ]
  },
  {
   "cell_type": "code",
   "execution_count": null,
   "metadata": {},
   "outputs": [],
   "source": [
    "    # a. Zastosowanie filtru BLUR\n",
    "    blur_filter = im.filter(ImageFilter.BLUR)\n",
    "    \n",
    "    # b. Pobranie informacji o filtrze BLUR i zastosowanie własnej implementacji\n",
    "    blur_kernel = [1/9, 1/9, 1/9,\n",
    "                  1/9, 1/9, 1/9,\n",
    "                  1/9, 1/9, 1/9]\n",
    "    blur_custom = filtruj(im, blur_kernel, 1)\n",
    "    \n",
    "    # c. Utworzenie diagramu porównawczego\n",
    "    fig1 = plt.figure(figsize=(15, 5))\n",
    "    plt.subplot(131)\n",
    "    plt.imshow(im)\n",
    "    plt.title('Oryginalny')\n",
    "    plt.axis('off')\n",
    "    \n",
    "    plt.subplot(132)\n",
    "    plt.imshow(blur_filter)\n",
    "    plt.title('BLUR filter')\n",
    "    plt.axis('off')\n",
    "    \n",
    "    plt.subplot(133)\n",
    "    plt.imshow(ImageChops.difference(blur_filter, blur_custom))\n",
    "    plt.title('Różnica')\n",
    "    plt.axis('off')\n",
    "    \n",
    "    plt.tight_layout()\n",
    "    plt.savefig('fig1.png')\n",
    "    plt.close()\n",
    "\n",
    "    # d. Statystyki obrazu porównania\n",
    "    diff_stats = difference_img.getextrema()\n",
    "    print(\"Statystyki obrazu porównania:\")\n",
    "    print(f\"Minimalna różnica w kanale R: {diff_stats[0][0]}\")\n",
    "    print(f\"Maksymalna różnica w kanale R: {diff_stats[0][1]}\")\n",
    "    print(f\"Minimalna różnica w kanale G: {diff_stats[1][0]}\")\n",
    "    print(f\"Maksymalna różnica w kanale G: {diff_stats[1][1]}\")\n",
    "    print(f\"Minimalna różnica w kanale B: {diff_stats[2][0]}\")\n",
    "    print(f\"Maksymalna różnica w kanale B: {diff_stats[2][1]}\")\n"
   ]
  },
  {
   "cell_type": "markdown",
   "metadata": {},
   "source": [
    "Statystyki obrazu porównania:\n",
    "- Minimalna różnica w kanale R: 0\n",
    "- Maksymalna różnica w kanale R: 84\n",
    "- Minimalna różnica w kanale G: 0\n",
    "- Maksymalna różnica w kanale G: 80\n",
    "- Minimalna różnica w kanale B: 0\n",
    "- Maksymalna różnica w kanale B: 80"
   ]
  },
  {
   "cell_type": "markdown",
   "metadata": {},
   "source": [
    "<img src=\"fig1.png\">"
   ]
  },
  {
   "cell_type": "markdown",
   "metadata": {},
   "source": [
    "## 3. SOBEL i EMBOSS\n",
    "- obraz w trybie 'L' (skala szarości)\n",
    "- filtr EMBOSS\n",
    "- Użyto dwóch filtró SOBEL:\n",
    "  - SOBEL1: wykrywa krawędzie pionowe\n",
    "  - SOBEL2: wykrywa krawędzie poziome\n",
    "- Porównanie pokazuje różne aspekty detekcji krawędzi (fig2.png)"
   ]
  },
  {
   "cell_type": "code",
   "execution_count": null,
   "metadata": {},
   "outputs": [],
   "source": [
    "    # 3. SOBEL i EMBOSS\n",
    "    # Konwersja na tryb L\n",
    "    im_L = im.convert('L')\n",
    "    \n",
    "    # a. Zastosowanie filtru EMBOSS\n",
    "    emboss = im_L.filter(ImageFilter.EMBOSS)\n",
    "    \n",
    "    # b. SOBEL filters\n",
    "    sobel1_kernel = [-1, 0, 1,\n",
    "                     -2, 0, 2,\n",
    "                     -1, 0, 1]\n",
    "    sobel2_kernel = [-1, -2, -1,\n",
    "                      0,  0,  0,\n",
    "                      1,  2,  1]\n",
    "    \n",
    "    sobel1 = filtruj(im_L, sobel1_kernel, 1)\n",
    "    sobel2 = filtruj(im_L, sobel2_kernel, 1)\n",
    "    \n",
    "    # Utworzenie diagramu\n",
    "    fig2 = plt.figure(figsize=(20, 5))\n",
    "    plt.subplot(141)\n",
    "    plt.imshow(im_L, cmap='gray')\n",
    "    plt.title('Obraz L')\n",
    "    plt.axis('off')\n",
    "    \n",
    "    plt.subplot(142)\n",
    "    plt.imshow(emboss, cmap='gray')\n",
    "    plt.title('EMBOSS')\n",
    "    plt.axis('off')\n",
    "    \n",
    "    plt.subplot(143)\n",
    "    plt.imshow(sobel1, cmap='gray')\n",
    "    plt.title('SOBEL1')\n",
    "    plt.axis('off')\n",
    "\n",
    "    plt.subplot(144)\n",
    "    plt.imshow(sobel1, cmap='gray')\n",
    "    plt.title('SOBEL2')\n",
    "    plt.axis('off')\n",
    "    \n",
    "    plt.tight_layout()\n",
    "    plt.savefig('fig2.png')\n",
    "    plt.close()"
   ]
  },
  {
   "cell_type": "markdown",
   "metadata": {},
   "source": [
    "Różnice między obrazami:\n",
    "1. EMBOSS:\n",
    "   - Tworzy efekt wypukłości/wklęsłości\n",
    "   - Podkreśla krawędzie z efektem trójwymiarowości\n",
    "   - Jasność pikseli zależy od kierunku zmiany intensywności\n",
    "\n",
    "2. SOBEL1 (pionowy):\n",
    "   - Wykrywa głównie pionowe krawędzie\n",
    "   - Pokazuje zmiany intensywności w kierunku poziomym\n",
    "   - Najjaśniejsze piksele występują na pionowych granicach obiektów\n",
    "\n",
    "3. SOBEL2 (poziomy):\n",
    "   - Wykrywa głównie poziome krawędzie\n",
    "   - Pokazuje zmiany intensywności w kierunku pionowym\n",
    "   - Najjaśniejsze piksele występują na poziomych granicach obiektów\n",
    "\n",
    "Główne różnice:\n",
    "- EMBOSS daje efekt trójwymiarowości, podczas gdy filtry SOBEL skupiają się na detekcji krawędzi\n",
    "- SOBEL1 i SOBEL2 są komplementarne - każdy wykrywa krawędzie w innym kierunku\n",
    "- EMBOSS generuje obraz z większym kontrastem niż filtry SOBEL"
   ]
  },
  {
   "cell_type": "markdown",
   "metadata": {},
   "source": [
    "<img src=\"fig2.png\">"
   ]
  },
  {
   "cell_type": "markdown",
   "metadata": {},
   "source": [
    "## 4. Porównanie filtrów 2,4,6,8"
   ]
  },
  {
   "cell_type": "code",
   "execution_count": null,
   "metadata": {},
   "outputs": [],
   "source": [
    "    # 4. Porównanie filtrów 2,4,6,8 \n",
    "    filters = [\n",
    "        (ImageFilter.DETAIL, \"DETAIL\"),\n",
    "        (ImageFilter.EDGE_ENHANCE_MORE, \"EDGE_ENHANCE_MORE\"),\n",
    "        (ImageFilter.SHARPEN, \"SHARPEN\"),\n",
    "        (ImageFilter.SMOOTH_MORE, \"SMOOTH_MORE\")\n",
    "    ]\n",
    "    \n",
    "    fig3 = plt.figure(figsize=(15, 10))\n",
    "    for idx, (filter_type, name) in enumerate(filters):\n",
    "        plt.subplot(4, 2, idx*2+1)\n",
    "        filtered = im.filter(filter_type)\n",
    "        plt.imshow(filtered)\n",
    "        plt.title(name)\n",
    "        plt.axis('off')\n",
    "        \n",
    "        plt.subplot(4, 2, idx*2+2)\n",
    "        plt.imshow(ImageChops.difference(filtered, im))\n",
    "        plt.title(f\"Różnica: {name} vs Original\")\n",
    "        plt.axis('off')\n",
    "    \n",
    "    plt.tight_layout()\n",
    "    plt.savefig('fig3.png')\n",
    "    plt.close()"
   ]
  },
  {
   "cell_type": "markdown",
   "metadata": {},
   "source": [
    "<img src=\"fig3.png\">"
   ]
  },
  {
   "cell_type": "markdown",
   "metadata": {},
   "source": [
    "## 5. Filtry parametryczne\n",
    "Przetestowano filtry z parametrami:\n",
    "- GaussianBlur(radius=2)\n",
    "- UnsharpMask(radius=2, percent=150)\n",
    "- MedianFilter(size=3)\n",
    "- MinFilter(size=3)\n",
    "- MaxFilter(size=3)\n",
    "\n",
    "Każdy filtr daje unikalne efekty w zależności od parametrów (fig4.png)"
   ]
  },
  {
   "cell_type": "code",
   "execution_count": null,
   "metadata": {},
   "outputs": [],
   "source": [
    "    filters_param = [\n",
    "        (ImageFilter.GaussianBlur(radius=2), \"GaussianBlur(2)\"),\n",
    "        (ImageFilter.UnsharpMask(radius=2, percent=150), \"UnsharpMask(2,150)\"),\n",
    "        (ImageFilter.MedianFilter(size=3), \"MedianFilter(3)\"),\n",
    "        (ImageFilter.MinFilter(size=3), \"MinFilter(3)\"),\n",
    "        (ImageFilter.MaxFilter(size=3), \"MaxFilter(3)\")\n",
    "    ]\n",
    "    \n",
    "    fig4 = plt.figure(figsize=(15, 12))\n",
    "    for idx, (filter_type, name) in enumerate(filters_param):\n",
    "        plt.subplot(5, 2, idx*2+1)\n",
    "        filtered = im.filter(filter_type)\n",
    "        plt.imshow(filtered)\n",
    "        plt.title(name)\n",
    "        plt.axis('off')\n",
    "        \n",
    "        plt.subplot(5, 2, idx*2+2)\n",
    "        plt.imshow(ImageChops.difference(filtered, im))\n",
    "        plt.title(f\"Różnica: {name} vs Original\")\n",
    "        plt.axis('off')\n",
    "    \n",
    "    plt.tight_layout()\n",
    "    plt.savefig('fig4.png')\n",
    "    plt.close()"
   ]
  },
  {
   "cell_type": "markdown",
   "metadata": {},
   "source": [
    "<img src=\"fig4.png\">"
   ]
  }
 ],
 "metadata": {
  "kernelspec": {
   "display_name": "Python 3",
   "language": "python3",
   "name": "python3"
  },
  "language_info": {
   "codemirror_mode": {
    "name": "ipython",
    "version": 3
   },
   "file_extension": ".py",
   "mimetype": "text/x-python",
   "name": "python",
   "nbconvert_exporter": "python",
   "pygments_lexer": "ipython3",
   "version": "3.8.0"
  }
 },
 "nbformat": 4,
 "nbformat_minor": 4
}
