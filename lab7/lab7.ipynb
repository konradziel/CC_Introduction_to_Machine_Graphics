{
 "cells": [
  {
   "cell_type": "markdown",
   "metadata": {},
   "source": [
    "Lab 7 - Przetwarzanie obrazów w Python"
   ]
  },
  {
   "cell_type": "code",
   "execution_count": 10,
   "metadata": {},
   "outputs": [],
   "source": [
    "1. Funkcje rysujące kwadraty\n",
    "Trzy różne funkcje do rysowania kwadratów:\n",
    "- z wartością średnią pikseli\n",
    "- z wartością maksymalną pikseli\n",
    "- z wartością minimalną pikseli"
   ]
  },
  {
   "cell_type": "code",
   "execution_count": null,
   "metadata": {},
   "outputs": [],
   "source": [
    "def rysuj_kwadrat_srednia(obraz, m, n, k): # m,n - srodek kwadratu, k - długość boku kwadratu\n",
    "    obraz1 = obraz.copy()\n",
    "    pix = obraz.load()\n",
    "    pix1 = obraz1.load()\n",
    "    d = k // 2\n",
    "    for a in range(k):\n",
    "        for b in range(k):\n",
    "            temp = [0, 0, 0]  # R, G, B\n",
    "            for i in range(k):\n",
    "                for j in range(k):\n",
    "                    x = m + i - d\n",
    "                    y = n + j - d\n",
    "                    if 0 <= x < obraz.size[0] and 0 <= y < obraz.size[1]:\n",
    "                        p = pix[x, y]\n",
    "                        temp[0] += p[0]\n",
    "                        temp[1] += p[1]\n",
    "                        temp[2] += p[2]\n",
    "            x = m + a - d\n",
    "            y = n + b - d\n",
    "            if 0 <= x < obraz.size[0] and 0 <= y < obraz.size[1]:\n",
    "                pix1[x, y] = (int(temp[0]/k**2), int(temp[1]/k**2), int(temp[2]/k**2))\n",
    "    return obraz1\n"
   ]
  },
  {
   "cell_type": "code",
   "execution_count": null,
   "metadata": {},
   "outputs": [],
   "source": [
    "def rysuj_kwadrat_max(obraz, m, n, k):\n",
    "    obraz1 = obraz.copy()\n",
    "    pix = obraz.load()\n",
    "    pix1 = obraz1.load()\n",
    "    d = k // 2\n",
    "\n",
    "    for a in range(k):\n",
    "        for b in range(k):\n",
    "            temp = [0, 0, 0]  # R, G, B\n",
    "            for i in range(k):\n",
    "                for j in range(k):\n",
    "                    x = m + i - d\n",
    "                    y = n + j - d\n",
    "                    if 0 <= x < obraz.size[0] and 0 <= y < obraz.size[1]:\n",
    "                        p = pix[x, y]\n",
    "                        temp[0] = max(temp[0], p[0])\n",
    "                        temp[1] = max(temp[1], p[1])\n",
    "                        temp[2] = max(temp[2], p[2])\n",
    "            \n",
    "            x = m + a - d\n",
    "            y = n + b - d\n",
    "            if 0 <= x < obraz.size[0] and 0 <= y < obraz.size[1]:\n",
    "                pix1[x, y] = (temp[0], temp[1], temp[2])\n",
    "    return obraz1"
   ]
  },
  {
   "cell_type": "code",
   "execution_count": null,
   "metadata": {},
   "outputs": [],
   "source": [
    "def rysuj_kwadrat_min(obraz, m, n, k):\n",
    "    obraz1 = obraz.copy()\n",
    "    pix = obraz.load()\n",
    "    pix1 = obraz1.load()\n",
    "    d = k // 2\n",
    "\n",
    "    for a in range(k):\n",
    "        for b in range(k):\n",
    "            temp = [255, 255, 255]  # R, G, B - startujemy od białego koloru\n",
    "            for i in range(k):\n",
    "                for j in range(k):\n",
    "                    x = m + i - d\n",
    "                    y = n + j - d\n",
    "                    if 0 <= x < obraz.size[0] and 0 <= y < obraz.size[1]:\n",
    "                        p = pix[x, y]\n",
    "                        temp[0] = min(temp[0], p[0])\n",
    "                        temp[1] = min(temp[1], p[1])\n",
    "                        temp[2] = min(temp[2], p[2])\n",
    "            \n",
    "            x = m + a - d\n",
    "            y = n + b - d\n",
    "            if 0 <= x < obraz.size[0] and 0 <= y < obraz.size[1]:\n",
    "                pix1[x, y] = (temp[0], temp[1], temp[2])\n",
    "    return obraz1\n"
   ]
  },
  {
   "cell_type": "markdown",
   "metadata": {},
   "source": [
    "2. Funkcja rysująca koło\n",
    "Parametry:\n",
    "- obraz - obraz źródłowy\n",
    "- m_s, n_s - współrzędne środka koła docelowego\n",
    "- r - promień koła\n",
    "- m_k, n_k - współrzędne punktu źródłowego (skąd kopiujemy piksele)"
   ]
  },
  {
   "cell_type": "code",
   "execution_count": 14,
   "metadata": {},
   "outputs": [],
   "source": [
    "def rysuj_kolo(obraz, m_s, n_s, r, m_k, n_k):\n",
    "    obraz1 = obraz.copy()\n",
    "    pix = obraz.load()\n",
    "    pix1 = obraz1.load()\n",
    "    \n",
    "    for i in range(-r, r + 1):\n",
    "        for j in range(-r, r + 1):\n",
    "            if i*i + j*j <= r*r:\n",
    "                x = m_s + i\n",
    "                y = n_s + j\n",
    "                x_source = m_k + i\n",
    "                y_source = n_k + j\n",
    "                \n",
    "                if (0 <= x < obraz.size[0] and 0 <= y < obraz.size[1] and \n",
    "                    0 <= x_source < obraz.size[0] and 0 <= y_source < obraz.size[1]):\n",
    "                    pix1[x, y] = pix[x_source, y_source]\n",
    "    return obraz1"
   ]
  },
  {
   "cell_type": "markdown",
   "metadata": {},
   "source": [
    "3. Funkcje odbijające obraz\n",
    "- odbicie w pionie (dwie wersje)"
   ]
  },
  {
   "cell_type": "markdown",
   "metadata": {},
   "source": [
    "Poprawna wersja funkcji odbijającej obraz w pionie.\n",
    "Używa oryginalnego obrazu jako źródła pikseli."
   ]
  },
  {
   "cell_type": "code",
   "execution_count": null,
   "metadata": {},
   "outputs": [],
   "source": [
    "def odbij_w_pionie_v1(im):\n",
    "    px0 = im.load()\n",
    "    img = im.copy()\n",
    "    w, h = im.size\n",
    "    px = img.load()\n",
    "    for i in range(w):\n",
    "        for j in range(h):\n",
    "            px[i, j] = px0[w - 1- i, j]\n",
    "    return img"
   ]
  },
  {
   "cell_type": "markdown",
   "metadata": {},
   "source": [
    "\n",
    "Niepoprawna wersja funkcji odbijającej obraz w pionie.\n",
    "Próbuje używać tego samego obrazu jako źródła i celu."
   ]
  },
  {
   "cell_type": "code",
   "execution_count": null,
   "metadata": {},
   "outputs": [],
   "source": [
    "def odbij_w_pionie_v2(im):\n",
    "    img = im.copy()\n",
    "    w, h = im.size\n",
    "    px = img.load()\n",
    "    for i in range(w):\n",
    "        for j in range(h):\n",
    "            px[i, j] = px[w-1-i, j]\n",
    "    return img\n"
   ]
  },
  {
   "cell_type": "markdown",
   "metadata": {},
   "source": [
    "Analiza różnicy między wersjami funkcji odbij_w_pionie:\n",
    "\n",
    "1. Wersja 1 (poprawna):\n",
    "   - Tworzy kopię obrazu\n",
    "   - Pobiera piksele z ORYGINALNEGO obrazu (px0)\n",
    "   - Zapisuje je do NOWEGO obrazu (px)\n",
    "   - Każdy piksel jest kopiowany tylko raz\n",
    "   - Efekt: obraz jest poprawnie odbity w pionie\n",
    "\n",
    "2. Wersja 2 (niepoprawna):\n",
    "   - Tworzy kopię obrazu\n",
    "   - Próbuje kopiować piksele z TEGO SAMEGO obrazu, na którym wykonuje operacje\n",
    "   - Problem: podczas przesuwania się po obrazie, niektóre piksele są nadpisywane\n",
    "     zanim zostaną użyte do odbicia\n",
    "   - Efekt: obraz jest zniekształcony, ponieważ część informacji jest tracona\n",
    "     w trakcie operacji\n",
    "\n",
    "Przykład dla pierwszych kilku pikseli w wierszu:\n",
    "- Krok 1: px[0,j] = px[w-1,j]  # piksel z prawej strony jest kopiowany na lewą\n",
    "- Krok 2: px[1,j] = px[w-2,j]  # ale px[w-1,j] został już zmieniony w kroku 1!\n",
    "- itd.\n",
    "\n",
    "W rezultacie, zamiast odbicia lustrzanego, otrzymujemy zniekształcony obraz,\n",
    "ponieważ używamy już zmodyfikowanych pikseli jako źródła dla kolejnych operacji."
   ]
  },
  {
   "cell_type": "markdown",
   "metadata": {},
   "source": [
    "main"
   ]
  },
  {
   "cell_type": "code",
   "execution_count": null,
   "metadata": {},
   "outputs": [],
   "source": [
    "if __name__ == \"__main__\":\n",
    "    # Wczytanie obrazu\n",
    "    im = Image.open('baby_yoda.jpg')\n",
    "    print(\"tryb obrazu\", im.mode)\n",
    "    print(\"rozmiar\", im.size)\n",
    "\n",
    "    # Test obu wersji funkcji odbij_w_pionie\n",
    "    obraz_v1 = odbij_w_pionie_v1(im)\n",
    "    obraz_v1.save('obraz_odbicie_v1.png')\n",
    "    \n",
    "    obraz_v2 = odbij_w_pionie_v2(im)\n",
    "    obraz_v2.save('obraz_odbicie_v2.png')\n",
    "\n",
    "    # Rysowanie trzech kwadratów z wartością maksymalną\n",
    "    obraz1 = im.copy()\n",
    "    obraz1 = rysuj_kwadrat_max(obraz1, 100, 100, 25)  # pierwszy kwadrat\n",
    "    obraz1 = rysuj_kwadrat_max(obraz1, 200, 150, 35)  # drugi kwadrat\n",
    "    obraz1 = rysuj_kwadrat_max(obraz1, 150, 200, 45)  # trzeci kwadrat\n",
    "    obraz1.save('obraz1.png')\n",
    "\n",
    "    # Rysowanie trzech kwadratów z wartością minimalną\n",
    "    obraz2 = im.copy()\n",
    "    obraz2 = rysuj_kwadrat_min(obraz2, 100, 100, 25)  # pierwszy kwadrat\n",
    "    obraz2 = rysuj_kwadrat_min(obraz2, 200, 150, 35)  # drugi kwadrat\n",
    "    obraz2 = rysuj_kwadrat_min(obraz2, 150, 200, 45)  # trzeci kwadrat\n",
    "    obraz2.save('obraz2.png')\n",
    "\n",
    "    # Kopiowanie fragmentu obrazu w kształcie koła\n",
    "    obraz3 = rysuj_kolo_kopia(im, 48, 250, 16, 48, 172)\n",
    "    obraz3.save('obraz3.png')\n",
    "\n",
    "    # Efekt wielu kół rozmieszczonych na okręgu\n",
    "    obraz4 = im.copy()\n",
    "    num_circles = 5\n",
    "    center_x, center_y = 48, 172  # środek dużego okręgu\n",
    "    radius = 60  # promień dużego okręgu\n",
    "    for i in range(num_circles):\n",
    "        angle = 2 * math.pi * i / num_circles  # kąt dla każdego koła\n",
    "        x = int(center_x + radius * math.cos(angle))\n",
    "        y = int(center_y + radius * math.sin(angle))\n",
    "        obraz4 = rysuj_kolo_kopia(obraz4, x, y, 16, 48, 172)\n",
    "    obraz4.save('obraz4.png')"
   ]
  }
 ],
 "metadata": {
  "kernelspec": {
   "display_name": "Python 3",
   "language": "python",
   "name": "python3"
  },
  "language_info": {
   "codemirror_mode": {
    "name": "ipython",
    "version": 3
   },
   "file_extension": ".py",
   "mimetype": "text/x-python",
   "name": "python",
   "nbconvert_exporter": "python",
   "pygments_lexer": "ipython3",
   "version": "3.8.0"
  }
 },
 "nbformat": 4,
 "nbformat_minor": 2
}
