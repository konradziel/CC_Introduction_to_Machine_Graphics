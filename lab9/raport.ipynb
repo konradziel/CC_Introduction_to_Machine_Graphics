{
 "cells": [
  {
   "cell_type": "markdown",
   "metadata": {},
   "source": [
    "# Laboratorium 9 - Przetwarzanie obrazów"
   ]
  },
  {
   "cell_type": "markdown",
   "metadata": {},
   "source": [
    "## Zadanie 1 - Wczytywanie obrazu\n",
    "\n",
    "Najpierw wczytałem obraz zeby.png i przekonwertowałem go do trybu 'L' (czarno-biały)."
   ]
  },
  {
   "cell_type": "code",
   "execution_count": null,
   "metadata": {},
   "outputs": [],
   "source": [
    "from PIL import Image\n",
    "import numpy as np\n",
    "import matplotlib.pyplot as plt\n",
    "\n",
    "img = Image.open('zeby.png')\n",
    "if img.mode != 'L':\n",
    "    img = img.convert('L')"
   ]
  },
  {
   "cell_type": "markdown",
   "metadata": {},
   "source": [
    "## Zadanie 2 - Wyrównywanie histogramu\n",
    "\n",
    "### 2.1 i 2.2 Histogram znormalizowany i skumulowany\n",
    "\n",
    "Zrobiłem dwie funkcje - jedna normalizuje histogram (dzieli każdą wartość przez liczbę pikseli), a druga robi histogram skumulowany (sumuje wartości od początku):"
   ]
  },
  {
   "cell_type": "code",
   "execution_count": null,
   "metadata": {},
   "outputs": [],
   "source": [
    "def histogram_norm(image):\n",
    "    hist = image.histogram()[:256]  # bierzemy tylko pierwsze 256 wartości dla trybu L\n",
    "    total_pixels = image.width * image.height\n",
    "    hist_norm = [h / total_pixels for h in hist]\n",
    "    return hist_norm\n",
    "\n",
    "def histogram_cumul(image):\n",
    "    hist_norm = histogram_norm(image)\n",
    "    hist_cumul = []\n",
    "    cumsum = 0\n",
    "    for h in hist_norm:\n",
    "        cumsum += h\n",
    "        hist_cumul.append(cumsum)\n",
    "    return hist_cumul"
   ]
  },
  {
   "cell_type": "markdown",
   "metadata": {},
   "source": [
    "### 2.3 Wyrównywanie histogramu\n",
    "\n",
    "Teraz funkcja która faktycznie wyrównuje histogram obrazu. Używa histogramu skumulowanego do przeliczenia wartości pikseli:"
   ]
  },
  {
   "cell_type": "code",
   "execution_count": null,
   "metadata": {},
   "outputs": [],
   "source": [
    "def histogram_equalization(image):\n",
    "    hist_cumul = histogram_cumul(image)\n",
    "    img_array = np.array(image)\n",
    "    equalized = np.zeros_like(img_array)\n",
    "    \n",
    "    for i in range(image.height):\n",
    "        for j in range(image.width):\n",
    "            pixel_value = img_array[i, j]\n",
    "            equalized[i, j] = int(255 * hist_cumul[pixel_value])\n",
    "    \n",
    "    return Image.fromarray(equalized)"
   ]
  },
  {
   "cell_type": "markdown",
   "metadata": {},
   "source": [
    "### 2.4 Porównanie histogramów\n",
    "\n",
    "Wszystkie histogramy na jednym wykresie (fig1.png):\n",
    "\n",
    "![Histogramy](fig1.png)\n",
    "\n",
    "### 2.5 Analiza różnic\n",
    "\n",
    "Porównując statystyki obrazów:\n",
    "- Średnia w obrazie oryginalnym jest wyższa (147.37) niż w wyrównanym (127.58)\n",
    "- Odchylenie standardowe zostało podobne (73.09 vs 73.71)\n",
    "- W obrazie wyrównanym mamy pełny zakres wartości (0-255)\n",
    "\n",
    "Obraz po wyrównaniu ma \"lepiej\" rozłożone wartości pikseli w całym zakresie."
   ]
  },
  {
   "cell_type": "markdown",
   "metadata": {},
   "source": [
    "## Zadanie 3 - Porównanie z ImageOps\n",
    "\n",
    "### 3.1 Porównanie obrazów\n",
    "\n",
    "Tu są wszystkie obrazy obok siebie (fig2.png):\n",
    "\n",
    "![Porównanie obrazów](fig2.png)\n",
    "\n",
    "### 3.2 Różnice między metodami\n",
    "\n",
    "Obrazy różnią się minimalnie, bo:\n",
    "1. ImageOps używa bardziej zaawansowanych algorytmów\n",
    "2. Moja metoda jest prostsza i bardziej \"surowa\"\n",
    "3. ImageOps może stosować np. dodatkowe wygładzanie"
   ]
  },
  {
   "cell_type": "markdown",
   "metadata": {},
   "source": [
    "## Zadanie 4 - Konwersja RGB na skale szarości\n",
    "\n",
    "### 4.1 i 4.2 Konwersja z round()\n",
    "\n",
    "Funkcja która konwertuje RGB na L używając round():"
   ]
  },
  {
   "cell_type": "code",
   "execution_count": null,
   "metadata": {},
   "outputs": [],
   "source": [
    "def konwertuj1(image, w_r, w_g, w_b):\n",
    "    img_array = np.array(image)\n",
    "    r, g, b = img_array[:,:,0], img_array[:,:,1], img_array[:,:,2]\n",
    "    result = np.round(r * w_r + g * w_g + b * w_b).astype(np.uint8)\n",
    "    return Image.fromarray(result)"
   ]
  },
  {
   "cell_type": "markdown",
   "metadata": {},
   "source": [
    "Porównując wyniki z PIL.convert('L'):\n",
    "- Statystyki są identyczne\n",
    "- Średnia: 101.26 vs 101.26\n",
    "- Odchylenie: 61.47 vs 61.47\n",
    "- Min: 2 vs 2\n",
    "- Max: 245 vs 245\n",
    "\n",
    "### 4.3 Konwersja z int()\n",
    "\n",
    "Wersja z int() zamiast round():"
   ]
  },
  {
   "cell_type": "code",
   "execution_count": null,
   "metadata": {},
   "outputs": [],
   "source": [
    "def konwertuj2(image, w_r, w_g, w_b):\n",
    "    img_array = np.array(image)\n",
    "    r, g, b = img_array[:,:,0], img_array[:,:,1], img_array[:,:,2]\n",
    "    result = (r * w_r + g * w_g + b * w_b).astype(np.uint8)\n",
    "    return Image.fromarray(result)"
   ]
  },
  {
   "cell_type": "markdown",
   "metadata": {},
   "source": [
    "Różnice są większe niż w przypadku round():\n",
    "- Średnia spadła do 100.80\n",
    "- Odchylenie też się zmieniło: 61.38\n",
    "- Min/max: 1/245 zamiast 2/245\n",
    "\n",
    "Wynika to z tego, że int() zawsze obcina wartości w dół, a round() zaokrągla do najbliższej liczby całkowitej."
   ]
  },
  {
   "cell_type": "markdown",
   "metadata": {},
   "source": [
    "# Mgła_L\n",
    "![mgla_l](mgla_l.png)\n",
    "\n",
    "# Mgła_L1\n",
    "![mgla_l1](mgla_l1.png)\n",
    "\n",
    "# Mgła_L2\n",
    "![mgla_l2](mgla_l2.png)"
   ]
  }
 ],
 "metadata": {
  "kernelspec": {
   "display_name": "Python 3",
   "language": "python",
   "name": "python3"
  },
  "language_info": {
   "codemirror_mode": {
    "name": "ipython",
    "version": 3
   },
   "file_extension": ".py",
   "mimetype": "text/x-python",
   "name": "python",
   "nbconvert_exporter": "python",
   "pygments_lexer": "ipython3",
   "version": "3.7.9"
  }
 },
 "nbformat": 4,
 "nbformat_minor": 4
}
