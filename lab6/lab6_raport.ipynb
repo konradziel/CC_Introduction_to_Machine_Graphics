{
 "cells": [
  {
   "cell_type": "markdown",
   "metadata": {},
   "source": [
    "# Lab 6 - Zmiana wartości pikseli – Metody na obrazie\n",
    "\n",
    "1. `im.getpixel` i `im.putpixel` - do pojedynczych operacji na pikselach\n",
    "2. `im.load()` - do szybszych operacji na wielu pikselach\n",
    "3. `im.point` - do szybkiego zastosowania funkcji na wszystkich pikselach"
   ]
  },
  {
   "cell_type": "code",
   "execution_count": null,
   "metadata": {},
   "outputs": [],
   "source": [
    "from PIL import Image\n",
    "import numpy as np\n",
    "import matplotlib.pyplot as plt"
   ]
  },
  {
   "cell_type": "markdown",
   "metadata": {},
   "source": [
    "## 1. Funkcje wstawiania inicjałów\n",
    "\n",
    "Implementujemy dwie wersje funkcji do wstawiania inicjałów:\n",
    "- Używając getpixel/putpixel\n",
    "- Używając metody load()"
   ]
  },
  {
   "cell_type": "code",
   "execution_count": null,
   "metadata": {},
   "outputs": [],
   "source": [
    "def wstaw_inicjaly(obraz, inicjaly, m, n, kolor):\n",
    "    \"\"\"Wstawia inicjały w określonym kolorze na obraz używając getpixel/putpixel\"\"\"\n",
    "    img_copy = obraz.copy()\n",
    "    width, height = inicjaly.size\n",
    "    \n",
    "    for i in range(width):\n",
    "        for j in range(height):\n",
    "            if inicjaly.getpixel((i, j)) == 0:  # czarny piksel w inicjałach\n",
    "                img_copy.putpixel((m + i, n + j), kolor)\n",
    "    \n",
    "    return img_copy\n",
    "\n",
    "def wstaw_inicjaly_maska(obraz, inicjaly, m, n):\n",
    "    \"\"\"Tworzy negatyw w miejscach czarnych pikseli inicjałów\"\"\"\n",
    "    img_copy = obraz.copy()\n",
    "    width, height = inicjaly.size\n",
    "    \n",
    "    for i in range(width):\n",
    "        for j in range(height):\n",
    "            if inicjaly.getpixel((i, j)) == 0:\n",
    "                pixel = img_copy.getpixel((m + i, n + j))\n",
    "                if isinstance(pixel, int):\n",
    "                    img_copy.putpixel((m + i, n + j), 255 - pixel)\n",
    "                else:\n",
    "                    img_copy.putpixel((m + i, n + j), tuple(255 - x for x in pixel))\n",
    "    \n",
    "    return img_copy"
   ]
  },
  {
   "cell_type": "markdown",
   "metadata": {},
   "source": [
    "## 2. Wersje funkcji używające load()\n",
    "\n",
    "Te same funkcje, ale wykorzystujące szybszą metodę load()"
   ]
  },
  {
   "cell_type": "code",
   "execution_count": null,
   "metadata": {},
   "outputs": [],
   "source": [
    "def wstaw_inicjaly_load(obraz, inicjaly, m, n, kolor):\n",
    "    \"\"\"Wstawia inicjały używając metody load()\"\"\"\n",
    "    img_copy = obraz.copy()\n",
    "    width, height = inicjaly.size\n",
    "    pix = img_copy.load()\n",
    "    init_pix = inicjaly.load()\n",
    "    \n",
    "    for i in range(width):\n",
    "        for j in range(height):\n",
    "            if init_pix[i, j] == 0:\n",
    "                pix[m + i, n + j] = kolor\n",
    "    \n",
    "    return img_copy\n",
    "\n",
    "def wstaw_inicjaly_maska_load(obraz, inicjaly, m, n):\n",
    "    \"\"\"Tworzy negatyw używając metody load()\"\"\"\n",
    "    img_copy = obraz.copy()\n",
    "    width, height = inicjaly.size\n",
    "    pix = img_copy.load()\n",
    "    init_pix = inicjaly.load()\n",
    "    \n",
    "    for i in range(width):\n",
    "        for j in range(height):\n",
    "            if init_pix[i, j] == 0:\n",
    "                pixel = pix[m + i, n + j]\n",
    "                if isinstance(pixel, int):\n",
    "                    pix[m + i, n + j] = 255 - pixel\n",
    "                else:\n",
    "                    pix[m + i, n + j] = tuple(255 - x for x in pixel)\n",
    "    \n",
    "    return img_copy"
   ]
  },
  {
   "cell_type": "markdown",
   "metadata": {},
   "source": [
    "## 3. Transformacje obrazu\n",
    "\n",
    "Implementacja różnych transformacji obrazu używając metody point()"
   ]
  },
  {
   "cell_type": "code",
   "execution_count": null,
   "metadata": {},
   "outputs": [],
   "source": [
    "def kontrast(obraz, wsp_kontrastu):\n",
    "    \"\"\"Zmienia kontrast obrazu\"\"\"\n",
    "    img_copy = obraz.copy()\n",
    "    mn = ((255 + wsp_kontrastu) / 255) ** 2\n",
    "    return img_copy.point(lambda i: 128 + (i - 128) * mn)\n",
    "\n",
    "def transformacja_logarytmiczna(obraz):\n",
    "    \"\"\"Aplikuje transformację logarytmiczną\"\"\"\n",
    "    img_copy = obraz.copy()\n",
    "    return img_copy.point(lambda i: 255 * np.log(1 + i / 255))\n",
    "\n",
    "def transformacja_gamma(obraz, gamma):\n",
    "    \"\"\"Aplikuje korekcję gamma\"\"\"\n",
    "    img_copy = obraz.copy()\n",
    "    return img_copy.point(lambda i: (i / 255) ** (1 / gamma) * 255)"
   ]
  },
  {
   "cell_type": "markdown",
   "metadata": {},
   "source": [
    "## 4. Porównanie metod dodawania wartości do obrazu\n",
    "\n",
    "Demonstracja różnicy między dodawaniem wartości do tablicy uint8 a metodą point.\n",
    "    \n",
    "Metoda z użyciem uint8 daje inny wynik, ponieważ typ uint8 używa arytmetyki modulo 256, więc wartości > 255 są \"zawijane\". Np. 200 + 100 = 44 (w uint8), bo (300 % 256 = 44).\n",
    "    \n",
    "Natomiast metoda point zachowuje wartości w pełnym zakresie przed końcową konwersją do uint8, więc wartości > 255 są po prostu ucinane do 255.\n",
    "\n",
    "dodaj_wartosc_jak_point():\n",
    "\n",
    "Funkcja działająca na tablicy obrazu, dająca taki sam efekt jak obraz.point(lambda i: i + wartosc)\n",
    "    \n",
    "Aby uzyskać ten sam efekt:\n",
    "1. Konwertujemy do float64 aby uniknąć przepełnienia\n",
    "2. Dodajemy wartość\n",
    "3. Używamy clip aby ograniczyć wartości do zakresu [0, 255]\n",
    "4. Konwertujemy z powrotem do uint8"
   ]
  },
  {
   "cell_type": "code",
   "execution_count": null,
   "metadata": {},
   "outputs": [],
   "source": [
    "def zadanie5_porownanie_metod(obraz):\n",
    "    \"\"\"Porównanie różnych metod dodawania wartości do obrazu\"\"\"\n",
    "    # Metoda 1 - nieprawidłowa (z użyciem uint8)\n",
    "    T = np.array(obraz, dtype='uint8')\n",
    "    T += 100\n",
    "    obraz_nieprawidlowy = Image.fromarray(T, \"RGB\")\n",
    "    \n",
    "    # Metoda 2 - point\n",
    "    obraz_point = obraz.point(lambda i: i + 100)\n",
    "    \n",
    "    # Porównanie wyników\n",
    "    plt.figure(figsize=(15, 5))\n",
    "    plt.subplot(131)\n",
    "    plt.imshow(obraz)\n",
    "    plt.title(\"Oryginalny\")\n",
    "    plt.axis('off')\n",
    "    \n",
    "    plt.subplot(132)\n",
    "    plt.imshow(obraz_nieprawidlowy)\n",
    "    plt.title(\"Metoda z uint8\\n(nieprawidłowa)\")\n",
    "    plt.axis('off')\n",
    "    \n",
    "    plt.subplot(133)\n",
    "    plt.imshow(obraz_point)\n",
    "    plt.title(\"Metoda point\\n(prawidłowa)\")\n",
    "    plt.axis('off')\n",
    "    \n",
    "    plt.savefig(\"fig5_porownanie.png\")\n",
    "    plt.close()\n",
    "    \n",
    "    return obraz_nieprawidlowy, obraz_point\n",
    "\n",
    "def dodaj_wartosc_jak_point(obraz, wartosc):\n",
    "    \"\"\"Prawidłowa implementacja dodawania wartości do obrazu\"\"\"\n",
    "    T = np.array(obraz, dtype='float64')\n",
    "    T += wartosc\n",
    "    T = np.clip(T, 0, 255)\n",
    "    return Image.fromarray(T.astype('uint8'), \"RGB\")"
   ]
  },
  {
   "cell_type": "markdown",
   "metadata": {},
   "source": [
    "## 5. Główna funkcja testująca\n",
    "\n",
    "Funkcja main() testująca wszystkie zaimplementowane funkcje"
   ]
  },
  {
   "cell_type": "code",
   "execution_count": null,
   "metadata": {},
   "outputs": [],
   "source": [
    "def main():\n",
    "    # Wczytanie obrazów\n",
    "    obraz = Image.open(\"baby_yoda.jpg\")\n",
    "    inicjaly = Image.open(\"inicjaly.jpg\").convert('L')\n",
    "    \n",
    "    # Test funkcji wstawiania inicjałów\n",
    "    img_width, img_height = obraz.size\n",
    "    init_width, init_height = inicjaly.size\n",
    "    \n",
    "    obraz1 = wstaw_inicjaly(obraz, inicjaly, \n",
    "                           img_width - init_width, \n",
    "                           img_height - init_height, \n",
    "                           (255, 0, 0))\n",
    "    obraz1.save(\"obraz1.png\")\n",
    "    \n",
    "    obraz2 = wstaw_inicjaly_maska(obraz, inicjaly,\n",
    "                                 (img_width - init_width) // 2,\n",
    "                                 (img_height - init_height) // 2)\n",
    "    obraz2.save(\"obraz2.png\")\n",
    "    \n",
    "    # Test transformacji\n",
    "    for wsp in [20, 50, 80]:\n",
    "        kontrast(obraz, wsp).save(f\"kontrast_{wsp}.png\")\n",
    "    \n",
    "    transformacja_logarytmiczna(obraz).save(\"logarytmiczna.png\")\n",
    "    \n",
    "    for gamma in [0.5, 1.0, 2.0]:\n",
    "        transformacja_gamma(obraz, gamma).save(f\"gamma_{gamma}.png\")\n",
    "    \n",
    "    # Test metod dodawania wartości\n",
    "    zadanie5_porownanie_metod(obraz)\n",
    "    dodaj_wartosc_jak_point(obraz, 100).save(\"dodawanie_prawidlowe.png\")\n",
    "\n",
    "if __name__ == \"__main__\":\n",
    "    main()"
   ]
  },
  {
   "cell_type": "markdown",
   "metadata": {},
   "source": [
    "## Wnioski\n",
    "\n",
    "1. **Metody manipulacji pikselami**:\n",
    "   - `getpixel/putpixel` są najwolniejsze, ale dobre do pojedynczych zmian\n",
    "   - `load()` jest znacznie szybszy przy wielu operacjach\n",
    "   - `point` jest najszybszy do jednolitych transformacji\n",
    "\n",
    "2. **Transformacje obrazu**:\n",
    "   - Kontrast: wartości `wsp_kontrastu` wpływają na rozpiętość tonalną obrazu\n",
    "   - Transformacja logarytmiczna: uwydatnia szczegóły w ciemnych obszarach\n",
    "   - Korekcja gamma: pozwala na nieliniową korektę jasności\n",
    "\n",
    "3. **Dodawanie wartości do obrazu**:\n",
    "   - Użycie `uint8` prowadzi do nieprawidłowych wyników przez zawijanie wartości\n",
    "   - Prawidłowa implementacja wymaga użycia typu `float64` i funkcji `clip`\n",
    "   - Metoda `point` automatycznie obsługuje przekroczenie zakresu wartości"
   ]
  }
 ],
 "metadata": {
  "kernelspec": {
   "display_name": "Python 3",
   "language": "python",
   "name": "python3"
  },
  "language_info": {
   "codemirror_mode": {
    "name": "ipython",
    "version": 3
   },
   "file_extension": ".py",
   "mimetype": "text/x-python",
   "name": "python",
   "nbconvert_exporter": "python",
   "pygments_lexer": "ipython3",
   "version": "3.8.0"
  }
 },
 "nbformat": 4,
 "nbformat_minor": 4
}
